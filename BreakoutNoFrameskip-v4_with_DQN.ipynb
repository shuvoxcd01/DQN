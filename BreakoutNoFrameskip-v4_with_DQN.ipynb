{
 "cells": [
  {
   "cell_type": "code",
   "execution_count": 1,
   "metadata": {},
   "outputs": [
    {
     "name": "stderr",
     "output_type": "stream",
     "text": [
      "Using TensorFlow backend.\n"
     ]
    }
   ],
   "source": [
    "import os\n",
    "import logging\n",
    "import sys\n",
    "import random\n",
    "import numpy as np\n",
    "import random\n",
    "import inspect\n",
    "import cv2\n",
    "\n",
    "from datetime import datetime\n",
    "from abc import ABC, abstractmethod\n",
    "from collections import deque\n",
    "\n",
    "import tensorflow as tf\n",
    "\n",
    "from keras.callbacks import TensorBoard\n",
    "from keras.models import load_model\n",
    "from keras.layers import Dense, Conv2D, Flatten\n",
    "from keras.models import Sequential\n",
    "from keras.optimizers import RMSprop\n",
    "\n",
    "import gym\n",
    "from gym.wrappers import AtariPreprocessing, FrameStack\n",
    "\n",
    "from IPython.display import clear_output"
   ]
  },
  {
   "cell_type": "code",
   "execution_count": 2,
   "metadata": {},
   "outputs": [],
   "source": [
    "#globals\n",
    "MINIBATCH_SIZE = 32\n",
    "REPLAY_MEMORY_SIZE = 1000000\n",
    "AGENT_HISTORY_LENGTH = 4\n",
    "TARGET_NETWORK_UPDATE_FREQUENCY = 10000\n",
    "DISCOUNT_FACTOR = 0.99\n",
    "FRAME_SKIP = 4 #ACTION_REPEAT\n",
    "UPDATE_FREQUENCY = 4\n",
    "LEARNING_RATE = 0.00025\n",
    "GRADIENT_MOMENTUM = 0.95\n",
    "SQUARED_GRADIENT_MOMENTUM = 0.95\n",
    "MIN_SQUARED_GRADIENT = 0.01\n",
    "INITIAL_EXPLORATION = 1.\n",
    "FINAL_EXPLORATION = 0.1\n",
    "FINAL_EXPLORATION_FRAME = 1000000\n",
    "REPLAY_START_SIZE = 50000\n",
    "NO_OP_MAX = 30"
   ]
  },
  {
   "cell_type": "code",
   "execution_count": 5,
   "metadata": {},
   "outputs": [],
   "source": [
    "env = gym.make('PongNoFrameskip-v4')\n",
    "\n",
    "env = AtariPreprocessing(env, noop_max=NO_OP_MAX, frame_skip=FRAME_SKIP, screen_size=84, terminal_on_life_loss=True, grayscale_obs=True,\n",
    "                 scale_obs=False)\n",
    "\n",
    "env = FrameStack(env, num_stack=4)"
   ]
  },
  {
   "cell_type": "code",
   "execution_count": 6,
   "metadata": {},
   "outputs": [],
   "source": [
    "def format_obs(obs):\n",
    "    return np.moveaxis(np.array(obs), 0, -1)"
   ]
  },
  {
   "cell_type": "code",
   "execution_count": 14,
   "metadata": {},
   "outputs": [],
   "source": [
    "import matplotlib.pyplot as plt\n",
    "import time"
   ]
  },
  {
   "cell_type": "code",
   "execution_count": 18,
   "metadata": {},
   "outputs": [],
   "source": [
    "obs1 = env.reset()\n",
    "obs2, reward, done, _ = env.step(env.action_space.sample())\n"
   ]
  },
  {
   "cell_type": "code",
   "execution_count": 37,
   "metadata": {},
   "outputs": [],
   "source": [
    "obs3, reward, done, _ = env.step(env.action_space.sample())\n"
   ]
  },
  {
   "cell_type": "code",
   "execution_count": 38,
   "metadata": {},
   "outputs": [],
   "source": [
    "obs4, reward, done, _ = env.step(env.action_space.sample())\n"
   ]
  },
  {
   "cell_type": "code",
   "execution_count": 39,
   "metadata": {},
   "outputs": [
    {
     "name": "stdout",
     "output_type": "stream",
     "text": [
      "False\n",
      "False\n",
      "False\n"
     ]
    }
   ],
   "source": [
    "for i in range(3):\n",
    "    print(np.all(obs3[i,:,:] ==  obs3[i+1,:,:]))"
   ]
  },
  {
   "cell_type": "code",
   "execution_count": 40,
   "metadata": {},
   "outputs": [
    {
     "name": "stdout",
     "output_type": "stream",
     "text": [
      "False\n",
      "True\n",
      "False\n",
      "False\n",
      "---------------\n",
      "False\n",
      "False\n",
      "True\n",
      "False\n",
      "---------------\n",
      "False\n",
      "False\n",
      "False\n",
      "True\n",
      "---------------\n",
      "False\n",
      "False\n",
      "False\n",
      "False\n",
      "---------------\n"
     ]
    }
   ],
   "source": [
    "for i in range(4):\n",
    "    for j in range(4):\n",
    "        print(np.all(obs3[j,:,:] ==  obs4[i,:,:]))\n",
    "    print(\"---------------\")\n",
    "    \n"
   ]
  },
  {
   "cell_type": "code",
   "execution_count": 41,
   "metadata": {},
   "outputs": [
    {
     "data": {
      "text/plain": [
       "True"
      ]
     },
     "execution_count": 41,
     "metadata": {},
     "output_type": "execute_result"
    }
   ],
   "source": [
    "np.all(obs3[1:4,:,:] == obs4[0:3,:,:])"
   ]
  },
  {
   "cell_type": "code",
   "execution_count": 15,
   "metadata": {},
   "outputs": [],
   "source": [
    "class DQN(object):\n",
    "    def __init__(self, input_shape, output_units, save_model_dir='models', save_model_name='model.h5',\n",
    "                 load_model_dir=None, load_model_name=None):\n",
    "        self.input_shape = input_shape\n",
    "        self.output_units = output_units\n",
    "        self.save_model_dir = save_model_dir\n",
    "        self.save_model_name = save_model_name\n",
    "        self.load_model_dir = load_model_dir\n",
    "        self.load_model_name = load_model_name\n",
    "        self.model = self._load_model()\n",
    "\n",
    "        if not os.path.exists(self.save_model_dir):\n",
    "            os.makedirs(self.save_model_dir)\n",
    "\n",
    "    def _load_model(self):\n",
    "        if self.load_model_dir is None or self.load_model_name is None:\n",
    "            print(\"Creating new neural-network\")\n",
    "            return self.get_q_network()\n",
    "\n",
    "        model_name = os.path.join(self.load_model_dir, self.load_model_name)\n",
    "\n",
    "        if os.path.exists(model_name):\n",
    "            print(\"Loading existing model, \" + str(model_name))\n",
    "            return load_model(model_name)\n",
    "\n",
    "        raise Exception(\"Model could not be loaded.\")\n",
    "\n",
    "    @abstractmethod\n",
    "    def get_q_network(self):\n",
    "        pass\n",
    "\n",
    "    def get_prediction(self, preprocessed_input):\n",
    "        return self.model.predict(np.expand_dims(preprocessed_input, 0))[0]\n",
    "\n",
    "    def get_predicted_action(self, preprocessed_input):\n",
    "        return np.argmax(self.get_prediction(preprocessed_input))\n",
    "\n",
    "    def prepare_minibatch(self, transitions_minibatch, gamma):\n",
    "        expected_output_minibatch = []\n",
    "        input_minibatch = []\n",
    "\n",
    "        for current_input, action, reward, next_input, is_terminal_state in transitions_minibatch:\n",
    "            q_value = reward\n",
    "            if not is_terminal_state:\n",
    "                q_value += gamma * np.amax(self.get_prediction(next_input))\n",
    "            prediction = self.get_prediction(current_input)\n",
    "            prediction[action] = q_value\n",
    "            expected_output_minibatch.append(prediction)\n",
    "            input_minibatch.append(current_input)\n",
    "\n",
    "        expected_output_minibatch = np.array(expected_output_minibatch)\n",
    "        input_minibatch = np.array(input_minibatch)\n",
    "\n",
    "        return input_minibatch, expected_output_minibatch\n",
    "\n",
    "    def perform_gradient_descent_step(self, _input, _output):\n",
    "        self.model.fit(x=_input, y=_output, epochs=1, verbose=0)\n",
    "\n",
    "    def save_model(self, step=''):\n",
    "        model_name = os.path.join(self.save_model_dir, (str(step) + '--' + self.save_model_name))\n",
    "        self.model.save(model_name)"
   ]
  },
  {
   "cell_type": "code",
   "execution_count": 35,
   "metadata": {},
   "outputs": [],
   "source": [
    "EXPERIENCE_REPLAY_MEMORY = deque([], maxlen=1000000)\n",
    "EPSILON_DECAY_RATE = 9.000000000000001e-07\n",
    "\n",
    "logdir = \"logs/scalars/\" + datetime.now().strftime(\"%Y%m%d-%H%M%S\")\n",
    "file_writer = tf.summary.create_file_writer(logdir=logdir)"
   ]
  },
  {
   "cell_type": "code",
   "execution_count": null,
   "metadata": {},
   "outputs": [],
   "source": [
    "def update_epsilon(self):\n",
    "    if self.epsilon < 0.1:\n",
    "        self.epsilon = 0.1\n",
    "        return\n",
    "    elif self.epsilon == 0.1:\n",
    "        return\n",
    "    else:\n",
    "        self.epsilon -= self.epsilon_decay_rate"
   ]
  },
  {
   "cell_type": "code",
   "execution_count": null,
   "metadata": {},
   "outputs": [],
   "source": [
    "def e_greedy_select_action(self, preprocessed_input):\n",
    "    if random.random() <= self.epsilon:\n",
    "        action = self.env_manager.get_random_action()\n",
    "    else:\n",
    "        action = self.DQN.get_predicted_action(preprocessed_input)\n",
    "\n",
    "    update_epsilon()\n",
    "\n",
    "    return action"
   ]
  },
  {
   "cell_type": "code",
   "execution_count": 49,
   "metadata": {},
   "outputs": [],
   "source": [
    "def initialize_replay_memory():\n",
    "    frame_count = 0\n",
    "    done = True\n",
    "    \n",
    "    while frame_count < REPLAY_START_SIZE:\n",
    "        if done:\n",
    "            current_obs = env.reset()\n",
    "            done = False\n",
    "            \n",
    "        action = env.action_space.sample()\n",
    "        next_obs, reward, done, info = env.step(action)\n",
    "        current_obs = format_obs(current_obs)\n",
    "        next_obs = format_obs(next_obs)\n",
    "        EXPERIENCE_REPLAY_MEMORY.append((current_obs, action, reward, next_obs, done))\n",
    "        \n",
    "        frame_count += 1\n",
    "        clear_output(wait=True)\n",
    "        print(\"{:.1f}% done.\".format(frame_count/float(REPLAY_START_SIZE) * 100 ))\n",
    "        \n",
    "    clear_output(wait=True)\n",
    "    print(\"Replay memory initialized.\")\n"
   ]
  },
  {
   "cell_type": "code",
   "execution_count": 61,
   "metadata": {},
   "outputs": [
    {
     "data": {
      "text/plain": [
       "array([1, 1])"
      ]
     },
     "execution_count": 61,
     "metadata": {},
     "output_type": "execute_result"
    }
   ],
   "source": [
    "def "
   ]
  },
  {
   "cell_type": "code",
   "execution_count": 62,
   "metadata": {},
   "outputs": [],
   "source": [
    "m = deque(a)"
   ]
  },
  {
   "cell_type": "code",
   "execution_count": 34,
   "metadata": {},
   "outputs": [
    {
     "ename": "KeyboardInterrupt",
     "evalue": "",
     "output_type": "error",
     "traceback": [
      "\u001b[0;31m---------------------------------------------------------------------------\u001b[0m",
      "\u001b[0;31mKeyboardInterrupt\u001b[0m                         Traceback (most recent call last)",
      "\u001b[0;32m<ipython-input-34-7e1e5dee63d6>\u001b[0m in \u001b[0;36m<module>\u001b[0;34m\u001b[0m\n\u001b[1;32m      7\u001b[0m         \u001b[0mobs\u001b[0m \u001b[0;34m=\u001b[0m \u001b[0mformat_obs\u001b[0m\u001b[0;34m(\u001b[0m\u001b[0mobs\u001b[0m\u001b[0;34m)\u001b[0m\u001b[0;34m\u001b[0m\u001b[0;34m\u001b[0m\u001b[0m\n\u001b[1;32m      8\u001b[0m         \u001b[0mcv2\u001b[0m\u001b[0;34m.\u001b[0m\u001b[0mimshow\u001b[0m\u001b[0;34m(\u001b[0m\u001b[0;34m'frame'\u001b[0m\u001b[0;34m,\u001b[0m \u001b[0mobs\u001b[0m\u001b[0;34m[\u001b[0m\u001b[0;34m:\u001b[0m\u001b[0;34m,\u001b[0m \u001b[0;34m:\u001b[0m\u001b[0;34m,\u001b[0m \u001b[0;36m0\u001b[0m\u001b[0;34m]\u001b[0m\u001b[0;34m)\u001b[0m\u001b[0;34m\u001b[0m\u001b[0;34m\u001b[0m\u001b[0m\n\u001b[0;32m----> 9\u001b[0;31m         \u001b[0mcv2\u001b[0m\u001b[0;34m.\u001b[0m\u001b[0mwaitKey\u001b[0m\u001b[0;34m(\u001b[0m\u001b[0;36m100\u001b[0m\u001b[0;34m)\u001b[0m \u001b[0;34m&\u001b[0m \u001b[0;36m0xFF\u001b[0m\u001b[0;34m\u001b[0m\u001b[0;34m\u001b[0m\u001b[0m\n\u001b[0m\u001b[1;32m     10\u001b[0m         \u001b[0maction\u001b[0m \u001b[0;34m=\u001b[0m \u001b[0menv\u001b[0m\u001b[0;34m.\u001b[0m\u001b[0maction_space\u001b[0m\u001b[0;34m.\u001b[0m\u001b[0msample\u001b[0m\u001b[0;34m(\u001b[0m\u001b[0;34m)\u001b[0m\u001b[0;34m\u001b[0m\u001b[0;34m\u001b[0m\u001b[0m\n\u001b[1;32m     11\u001b[0m         \u001b[0;31m# print(action)\u001b[0m\u001b[0;34m\u001b[0m\u001b[0;34m\u001b[0m\u001b[0;34m\u001b[0m\u001b[0m\n",
      "\u001b[0;31mKeyboardInterrupt\u001b[0m: "
     ]
    }
   ],
   "source": [
    "cv2.namedWindow('frame', cv2.WINDOW_NORMAL)\n",
    "while True:\n",
    "    obs = env.reset()\n",
    "    done = False\n",
    "    while not done:\n",
    "        env.render()\n",
    "        obs = format_obs(obs)\n",
    "        cv2.imshow('frame', obs[:, :, 0])\n",
    "        cv2.waitKey(100) & 0xFF\n",
    "        action = env.action_space.sample()\n",
    "        # print(action)\n",
    "        obs, reward, done, info = env.step(action)\n",
    "cv2.destroyAllWindows()"
   ]
  },
  {
   "cell_type": "code",
   "execution_count": 5,
   "metadata": {},
   "outputs": [],
   "source": [
    "i = -100"
   ]
  },
  {
   "cell_type": "code",
   "execution_count": 6,
   "metadata": {},
   "outputs": [
    {
     "data": {
      "text/plain": [
       "-1"
      ]
     },
     "execution_count": 6,
     "metadata": {},
     "output_type": "execute_result"
    }
   ],
   "source": [
    "7 if i > 0 else 0 if i == 0 else -1"
   ]
  },
  {
   "cell_type": "code",
   "execution_count": 11,
   "metadata": {},
   "outputs": [
    {
     "data": {
      "text/plain": [
       "\u001b[0;31mSignature:\u001b[0m \u001b[0menv\u001b[0m\u001b[0;34m.\u001b[0m\u001b[0mreset\u001b[0m\u001b[0;34m(\u001b[0m\u001b[0;34m**\u001b[0m\u001b[0mkwargs\u001b[0m\u001b[0;34m)\u001b[0m\u001b[0;34m\u001b[0m\u001b[0;34m\u001b[0m\u001b[0m\n",
       "\u001b[0;31mDocstring:\u001b[0m\n",
       "Resets the state of the environment and returns an initial observation.\n",
       "\n",
       "Returns:\n",
       "    observation (object): the initial observation.\n",
       "\u001b[0;31mFile:\u001b[0m      ~/anaconda3/envs/rl-gpu/lib/python3.7/site-packages/gym/wrappers/frame_stack.py\n",
       "\u001b[0;31mType:\u001b[0m      method\n"
      ]
     },
     "metadata": {},
     "output_type": "display_data"
    }
   ],
   "source": [
    "env.reset?"
   ]
  },
  {
   "cell_type": "code",
   "execution_count": null,
   "metadata": {},
   "outputs": [],
   "source": []
  }
 ],
 "metadata": {
  "kernelspec": {
   "display_name": "Python 3",
   "language": "python",
   "name": "python3"
  },
  "language_info": {
   "codemirror_mode": {
    "name": "ipython",
    "version": 3
   },
   "file_extension": ".py",
   "mimetype": "text/x-python",
   "name": "python",
   "nbconvert_exporter": "python",
   "pygments_lexer": "ipython3",
   "version": "3.7.6"
  }
 },
 "nbformat": 4,
 "nbformat_minor": 4
}
